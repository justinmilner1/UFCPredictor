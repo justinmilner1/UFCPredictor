{
 "cells": [
  {
   "cell_type": "code",
   "execution_count": 3,
   "metadata": {},
   "outputs": [],
   "source": [
    "import pandas as pd\n",
    "import numpy as np\n",
    "import matplotlib.pyplot as plt\n",
    "import pickle\n",
    "from xgboost import XGBClassifier\n",
    "from sklearn.preprocessing import LabelEncoder\n",
    "import xgboost as xgb\n",
    "from sklearn.model_selection import train_test_split\n",
    "from sklearn.preprocessing import StandardScaler\n",
    "from sklearn.metrics import accuracy_score, classification_report,confusion_matrix, roc_auc_score\n",
    "from sklearn.utils.multiclass import unique_labels\n",
    "from sklearn.model_selection import GridSearchCV, RandomizedSearchCV\n",
    "\n",
    "%matplotlib inline"
   ]
  },
  {
   "cell_type": "code",
   "execution_count": 5,
   "metadata": {},
   "outputs": [],
   "source": [
    "df = pd.read_csv('../data/preprocessed_data.csv')"
   ]
  },
  {
   "cell_type": "code",
   "execution_count": null,
   "metadata": {},
   "outputs": [],
   "source": [
    "number_of_new_fights = 11"
   ]
  },
  {
   "cell_type": "code",
   "execution_count": null,
   "metadata": {},
   "outputs": [],
   "source": [
    "new_fights_df = df[:number_of_new_fights]\n",
    "df = df[number_of_new_fights:]"
   ]
  },
  {
   "cell_type": "code",
   "execution_count": 6,
   "metadata": {},
   "outputs": [
    {
     "data": {
      "text/html": [
       "<div>\n",
       "<style scoped>\n",
       "    .dataframe tbody tr th:only-of-type {\n",
       "        vertical-align: middle;\n",
       "    }\n",
       "\n",
       "    .dataframe tbody tr th {\n",
       "        vertical-align: top;\n",
       "    }\n",
       "\n",
       "    .dataframe thead th {\n",
       "        text-align: right;\n",
       "    }\n",
       "</style>\n",
       "<table border=\"1\" class=\"dataframe\">\n",
       "  <thead>\n",
       "    <tr style=\"text-align: right;\">\n",
       "      <th></th>\n",
       "      <th>Winner</th>\n",
       "      <th>title_bout</th>\n",
       "      <th>B_avg_KD</th>\n",
       "      <th>B_avg_opp_KD</th>\n",
       "      <th>B_avg_SIG_STR_pct</th>\n",
       "      <th>B_avg_opp_SIG_STR_pct</th>\n",
       "      <th>B_avg_TD_pct</th>\n",
       "      <th>B_avg_opp_TD_pct</th>\n",
       "      <th>B_avg_SUB_ATT</th>\n",
       "      <th>B_avg_opp_SUB_ATT</th>\n",
       "      <th>...</th>\n",
       "      <th>B_Stance_Open Stance</th>\n",
       "      <th>B_Stance_Orthodox</th>\n",
       "      <th>B_Stance_Sideways</th>\n",
       "      <th>B_Stance_Southpaw</th>\n",
       "      <th>B_Stance_Switch</th>\n",
       "      <th>R_Stance_Open Stance</th>\n",
       "      <th>R_Stance_Orthodox</th>\n",
       "      <th>R_Stance_Sideways</th>\n",
       "      <th>R_Stance_Southpaw</th>\n",
       "      <th>R_Stance_Switch</th>\n",
       "    </tr>\n",
       "  </thead>\n",
       "  <tbody>\n",
       "    <tr>\n",
       "      <th>0</th>\n",
       "      <td>Red</td>\n",
       "      <td>False</td>\n",
       "      <td>0.000000</td>\n",
       "      <td>0.0</td>\n",
       "      <td>0.420000</td>\n",
       "      <td>0.49500</td>\n",
       "      <td>0.330</td>\n",
       "      <td>0.36000</td>\n",
       "      <td>0.500000</td>\n",
       "      <td>1.000000</td>\n",
       "      <td>...</td>\n",
       "      <td>0</td>\n",
       "      <td>1</td>\n",
       "      <td>0</td>\n",
       "      <td>0</td>\n",
       "      <td>0</td>\n",
       "      <td>0</td>\n",
       "      <td>1</td>\n",
       "      <td>0</td>\n",
       "      <td>0</td>\n",
       "      <td>0</td>\n",
       "    </tr>\n",
       "    <tr>\n",
       "      <th>1</th>\n",
       "      <td>Red</td>\n",
       "      <td>False</td>\n",
       "      <td>0.500000</td>\n",
       "      <td>0.0</td>\n",
       "      <td>0.660000</td>\n",
       "      <td>0.30500</td>\n",
       "      <td>0.300</td>\n",
       "      <td>0.50000</td>\n",
       "      <td>1.500000</td>\n",
       "      <td>0.000000</td>\n",
       "      <td>...</td>\n",
       "      <td>0</td>\n",
       "      <td>1</td>\n",
       "      <td>0</td>\n",
       "      <td>0</td>\n",
       "      <td>0</td>\n",
       "      <td>0</td>\n",
       "      <td>1</td>\n",
       "      <td>0</td>\n",
       "      <td>0</td>\n",
       "      <td>0</td>\n",
       "    </tr>\n",
       "    <tr>\n",
       "      <th>2</th>\n",
       "      <td>Red</td>\n",
       "      <td>False</td>\n",
       "      <td>0.015625</td>\n",
       "      <td>0.0</td>\n",
       "      <td>0.450000</td>\n",
       "      <td>0.42750</td>\n",
       "      <td>0.250</td>\n",
       "      <td>0.20000</td>\n",
       "      <td>0.148468</td>\n",
       "      <td>0.098389</td>\n",
       "      <td>...</td>\n",
       "      <td>0</td>\n",
       "      <td>1</td>\n",
       "      <td>0</td>\n",
       "      <td>0</td>\n",
       "      <td>0</td>\n",
       "      <td>0</td>\n",
       "      <td>0</td>\n",
       "      <td>0</td>\n",
       "      <td>1</td>\n",
       "      <td>0</td>\n",
       "    </tr>\n",
       "    <tr>\n",
       "      <th>3</th>\n",
       "      <td>Blue</td>\n",
       "      <td>False</td>\n",
       "      <td>0.015625</td>\n",
       "      <td>0.0</td>\n",
       "      <td>0.450000</td>\n",
       "      <td>0.42750</td>\n",
       "      <td>0.250</td>\n",
       "      <td>0.20000</td>\n",
       "      <td>0.148468</td>\n",
       "      <td>0.098389</td>\n",
       "      <td>...</td>\n",
       "      <td>0</td>\n",
       "      <td>0</td>\n",
       "      <td>0</td>\n",
       "      <td>1</td>\n",
       "      <td>0</td>\n",
       "      <td>0</td>\n",
       "      <td>0</td>\n",
       "      <td>0</td>\n",
       "      <td>0</td>\n",
       "      <td>1</td>\n",
       "    </tr>\n",
       "    <tr>\n",
       "      <th>4</th>\n",
       "      <td>Blue</td>\n",
       "      <td>False</td>\n",
       "      <td>0.125000</td>\n",
       "      <td>0.0</td>\n",
       "      <td>0.535625</td>\n",
       "      <td>0.57875</td>\n",
       "      <td>0.185</td>\n",
       "      <td>0.16625</td>\n",
       "      <td>0.125000</td>\n",
       "      <td>0.187500</td>\n",
       "      <td>...</td>\n",
       "      <td>0</td>\n",
       "      <td>1</td>\n",
       "      <td>0</td>\n",
       "      <td>0</td>\n",
       "      <td>0</td>\n",
       "      <td>0</td>\n",
       "      <td>1</td>\n",
       "      <td>0</td>\n",
       "      <td>0</td>\n",
       "      <td>0</td>\n",
       "    </tr>\n",
       "  </tbody>\n",
       "</table>\n",
       "<p>5 rows × 160 columns</p>\n",
       "</div>"
      ],
      "text/plain": [
       "  Winner  title_bout  B_avg_KD  B_avg_opp_KD  B_avg_SIG_STR_pct  \\\n",
       "0    Red       False  0.000000           0.0           0.420000   \n",
       "1    Red       False  0.500000           0.0           0.660000   \n",
       "2    Red       False  0.015625           0.0           0.450000   \n",
       "3   Blue       False  0.015625           0.0           0.450000   \n",
       "4   Blue       False  0.125000           0.0           0.535625   \n",
       "\n",
       "   B_avg_opp_SIG_STR_pct  B_avg_TD_pct  B_avg_opp_TD_pct  B_avg_SUB_ATT  \\\n",
       "0                0.49500         0.330           0.36000       0.500000   \n",
       "1                0.30500         0.300           0.50000       1.500000   \n",
       "2                0.42750         0.250           0.20000       0.148468   \n",
       "3                0.42750         0.250           0.20000       0.148468   \n",
       "4                0.57875         0.185           0.16625       0.125000   \n",
       "\n",
       "   B_avg_opp_SUB_ATT  ...  B_Stance_Open Stance  B_Stance_Orthodox  \\\n",
       "0           1.000000  ...                     0                  1   \n",
       "1           0.000000  ...                     0                  1   \n",
       "2           0.098389  ...                     0                  1   \n",
       "3           0.098389  ...                     0                  0   \n",
       "4           0.187500  ...                     0                  1   \n",
       "\n",
       "   B_Stance_Sideways  B_Stance_Southpaw  B_Stance_Switch  \\\n",
       "0                  0                  0                0   \n",
       "1                  0                  0                0   \n",
       "2                  0                  0                0   \n",
       "3                  0                  1                0   \n",
       "4                  0                  0                0   \n",
       "\n",
       "   R_Stance_Open Stance  R_Stance_Orthodox  R_Stance_Sideways  \\\n",
       "0                     0                  1                  0   \n",
       "1                     0                  1                  0   \n",
       "2                     0                  0                  0   \n",
       "3                     0                  0                  0   \n",
       "4                     0                  1                  0   \n",
       "\n",
       "   R_Stance_Southpaw  R_Stance_Switch  \n",
       "0                  0                0  \n",
       "1                  0                0  \n",
       "2                  1                0  \n",
       "3                  0                1  \n",
       "4                  0                0  \n",
       "\n",
       "[5 rows x 160 columns]"
      ]
     },
     "execution_count": 6,
     "metadata": {},
     "output_type": "execute_result"
    }
   ],
   "source": [
    "df.head()"
   ]
  },
  {
   "cell_type": "markdown",
   "metadata": {},
   "source": [
    "### Normalizing data"
   ]
  },
  {
   "cell_type": "code",
   "execution_count": 7,
   "metadata": {},
   "outputs": [],
   "source": [
    "df_num = df.select_dtypes(include=[np.float, np.int])"
   ]
  },
  {
   "cell_type": "code",
   "execution_count": 8,
   "metadata": {},
   "outputs": [],
   "source": [
    "scaler = StandardScaler()\n",
    "\n",
    "df[list(df_num.columns)] = scaler.fit_transform(df[list(df_num.columns)])"
   ]
  },
  {
   "cell_type": "markdown",
   "metadata": {},
   "source": [
    "### Splitting into train, test"
   ]
  },
  {
   "cell_type": "code",
   "execution_count": 9,
   "metadata": {},
   "outputs": [],
   "source": [
    "y = df['Winner']\n",
    "label_encoder = LabelEncoder()\n",
    "label_encoder = label_encoder.fit(y)\n",
    "label_encoded_y = label_encoder.transform(y)\n",
    "\n",
    "X = df.drop(columns = 'Winner')\n",
    "\n",
    "X_train, X_test, y_train, y_test = train_test_split(X, label_encoded_y, test_size=0.1, random_state=41)"
   ]
  },
  {
   "cell_type": "markdown",
   "metadata": {},
   "source": [
    "### Fitting baseline Xgboost"
   ]
  },
  {
   "cell_type": "code",
   "execution_count": 10,
   "metadata": {},
   "outputs": [],
   "source": [
    "def plot_confusion(cm, classes):\n",
    "    fig, ax = plt.subplots()\n",
    "    im = ax.imshow(cm, interpolation='nearest', cmap=plt.cm.Blues)\n",
    "    ax.figure.colorbar(im, ax=ax)\n",
    "    # We want to show all ticks...\n",
    "    ax.set(xticks=np.arange(cm.shape[1]),\n",
    "           yticks=np.arange(cm.shape[0]),\n",
    "           # ... and label them with the respective list entries\n",
    "           xticklabels=classes, yticklabels=classes,\n",
    "           title='Confusion Matrix',\n",
    "           ylabel='True label',\n",
    "           xlabel='Predicted label')\n",
    "    # Loop over data dimensions and create text annotations.\n",
    "    fmt = 'd'\n",
    "    thresh = cm.max() / 2.\n",
    "    for i in range(cm.shape[0]):\n",
    "        for j in range(cm.shape[1]):\n",
    "            ax.text(j, i, format(cm[i, j], fmt),\n",
    "                    ha=\"center\", va=\"center\",\n",
    "                    color=\"white\" if cm[i, j] > thresh else \"black\")\n",
    "    fig.tight_layout()\n",
    "    return ax"
   ]
  },
  {
   "cell_type": "code",
   "execution_count": 11,
   "metadata": {},
   "outputs": [],
   "source": [
    "def modelfit(alg, X_train, y_train, X_test, y_test, useTrainCV=True, cv_folds=5, early_stopping_rounds=50):\n",
    "    \n",
    "    if useTrainCV:\n",
    "        xgb_param = alg.get_xgb_params()\n",
    "        xgtrain = xgb.DMatrix(X_train, label=y_train)\n",
    "        cvresult = xgb.cv(xgb_param, xgtrain, num_boost_round=alg.get_params()['n_estimators'], nfold=cv_folds,\n",
    "            metrics='auc', early_stopping_rounds=early_stopping_rounds)\n",
    "        alg.set_params(n_estimators=cvresult.shape[0])\n",
    "        print(f\"Best number of estimators = {cvresult.shape[0]}\")\n",
    "    \n",
    "    #Fit the algorithm on the data\n",
    "    alg.fit(np.array(X_train), np.array(y_train), eval_metric='auc')\n",
    "    \n",
    "    #Predict train set:\n",
    "    dtrain_predictions = alg.predict(np.array(X_train))\n",
    "    dtrain_predprob = alg.predict_proba(np.array(X_train))[:,1]\n",
    "        \n",
    "    #Predict test set:\n",
    "    dtest_predictions = alg.predict(np.array(X_test))\n",
    "    dtest_predprob = alg.predict_proba(np.array(X_test))[:,1]\n",
    "        \n",
    "    #Print model report:\n",
    "    print(\"\\nModel Report: \")\n",
    "    print(f\"Accuracy (Test): {accuracy_score(y_test, dtest_predictions):.4f}\")\n",
    "#     print(f\"AUC Score (Train): {roc_auc_score(y_train, dtrain_predprob)}\")\n",
    "    print(f\"AUC Score (Test): {roc_auc_score(y_test, dtest_predprob):.4f}\")\n",
    "    \n",
    "    \n",
    "    return dtest_predictions"
   ]
  },
  {
   "cell_type": "code",
   "execution_count": 12,
   "metadata": {},
   "outputs": [
    {
     "name": "stdout",
     "output_type": "stream",
     "text": [
      "Best number of estimators = 100\n"
     ]
    },
    {
     "name": "stderr",
     "output_type": "stream",
     "text": [
      "/Users/justinmilner/opt/anaconda3/lib/python3.8/site-packages/xgboost/sklearn.py:888: UserWarning: The use of label encoder in XGBClassifier is deprecated and will be removed in a future release. To remove this warning, do the following: 1) Pass option use_label_encoder=False when constructing XGBClassifier object; and 2) Encode your labels (y) as integers starting with 0, i.e. 0, 1, 2, ..., [num_class - 1].\n",
      "  warnings.warn(label_encoder_deprecation_msg, UserWarning)\n"
     ]
    },
    {
     "name": "stdout",
     "output_type": "stream",
     "text": [
      "\n",
      "Model Report: \n",
      "Accuracy (Test): 0.6802\n",
      "AUC Score (Test): 0.7144\n"
     ]
    },
    {
     "data": {
      "text/plain": [
       "<AxesSubplot:title={'center':'Confusion Matrix'}, xlabel='Predicted label', ylabel='True label'>"
      ]
     },
     "execution_count": 12,
     "metadata": {},
     "output_type": "execute_result"
    },
    {
     "data": {
      "image/png": "[encoded data removed]",
      "text/plain": [
       "<Figure size 432x288 with 2 Axes>"
      ]
     },
     "metadata": {
      "needs_background": "light"
     },
     "output_type": "display_data"
    }
   ],
   "source": [
    "model1 = XGBClassifier(random_state=43, n_jobs=-1)\n",
    "\n",
    "y1_preds = modelfit(model1, X_train, y_train, X_test, y_test)\n",
    "\n",
    "cm = confusion_matrix(y_test, y1_preds)\n",
    "classes = unique_labels(y_test, y1_preds)\n",
    "\n",
    "plot_confusion(cm, classes)"
   ]
  },
  {
   "cell_type": "code",
   "execution_count": 13,
   "metadata": {},
   "outputs": [
    {
     "data": {
      "text/plain": [
       "[('B_avg_SIG_STR_att', 0.023344433),\n",
       " ('R_avg_opp_DISTANCE_landed', 0.016146472),\n",
       " ('B_avg_DISTANCE_landed', 0.013202856),\n",
       " ('R_win_by_Decision_Split', 0.013020599),\n",
       " ('R_win_by_Decision_Majority', 0.012823383),\n",
       " ('B_win_by_Decision_Unanimous', 0.012211408),\n",
       " ('R_avg_opp_HEAD_landed', 0.011618251),\n",
       " ('weight_class_OpenWeight', 0.011387692),\n",
       " ('B_total_title_bouts', 0.011319535),\n",
       " ('B_avg_opp_DISTANCE_att', 0.010936261),\n",
       " ('weight_class_Featherweight', 0.010793519),\n",
       " ('B_Weight_lbs', 0.010521113),\n",
       " ('R_current_win_streak', 0.010281329),\n",
       " ('R_Weight_lbs', 0.009999626),\n",
       " ('R_Stance_Orthodox', 0.009678324),\n",
       " ('B_current_lose_streak', 0.009228317),\n",
       " ('B_avg_opp_HEAD_landed', 0.008967554),\n",
       " ('R_age', 0.008891735),\n",
       " ('B_Reach_cms', 0.008762539),\n",
       " ('B_avg_GROUND_landed', 0.008555696),\n",
       " ('B_age', 0.008554061),\n",
       " ('B_avg_HEAD_att', 0.008531591),\n",
       " ('B_avg_opp_SIG_STR_landed', 0.008488619),\n",
       " ('title_bout', 0.008259865),\n",
       " ('R_win_by_TKO_Doctor_Stoppage', 0.008237441),\n",
       " ('R_avg_opp_SIG_STR_pct', 0.008072129),\n",
       " ('R_wins', 0.00799575),\n",
       " ('B_avg_opp_TOTAL_STR_landed', 0.0078472225),\n",
       " ('R_avg_SIG_STR_att', 0.00781792),\n",
       " ('B_avg_TD_landed', 0.0077740424),\n",
       " ('B_avg_opp_KD', 0.0076789763),\n",
       " ('R_losses', 0.007644005),\n",
       " ('B_avg_DISTANCE_att', 0.0075639337),\n",
       " ('B_Stance_Southpaw', 0.007502727),\n",
       " ('B_avg_opp_GROUND_att', 0.007498171),\n",
       " ('R_win_by_Decision_Unanimous', 0.007484892),\n",
       " ('R_total_time_fought(seconds)', 0.007361328),\n",
       " ('B_avg_HEAD_landed', 0.007339942),\n",
       " ('weight_class_Flyweight', 0.0073078624),\n",
       " ('B_losses', 0.0072936914),\n",
       " ('R_avg_opp_TOTAL_STR_landed', 0.0072869565),\n",
       " ('B_avg_CLINCH_landed', 0.007224783),\n",
       " ('weight_class_WomenBantamweight', 0.0071514486),\n",
       " ('B_avg_GROUND_att', 0.007106041),\n",
       " ('R_avg_TOTAL_STR_att', 0.007086353),\n",
       " ('R_win_by_Submission', 0.007012031),\n",
       " ('B_avg_opp_CLINCH_att', 0.006999897),\n",
       " ('R_avg_REV', 0.0069976496),\n",
       " ('R_avg_KD', 0.006987922),\n",
       " ('B_avg_opp_SIG_STR_att', 0.006981914),\n",
       " ('R_avg_SIG_STR_landed', 0.006951588),\n",
       " ('R_avg_GROUND_landed', 0.006938209),\n",
       " ('R_avg_opp_GROUND_att', 0.0068913796),\n",
       " ('B_avg_BODY_landed', 0.0068424684),\n",
       " ('B_avg_opp_DISTANCE_landed', 0.006821871),\n",
       " ('R_avg_opp_BODY_att', 0.0067992066),\n",
       " ('B_avg_opp_LEG_att', 0.0067688297),\n",
       " ('B_avg_opp_GROUND_landed', 0.006767289),\n",
       " ('B_avg_TOTAL_STR_att', 0.006741883),\n",
       " ('B_avg_opp_CLINCH_landed', 0.0067176833),\n",
       " ('B_avg_SUB_ATT', 0.0066760313),\n",
       " ('R_avg_TD_pct', 0.0066596186),\n",
       " ('B_avg_TOTAL_STR_landed', 0.006628615),\n",
       " ('R_avg_opp_KD', 0.006609828),\n",
       " ('B_avg_TD_pct', 0.00659884),\n",
       " ('weight_class_LightHeavyweight', 0.0065951324),\n",
       " ('R_avg_CLINCH_landed', 0.0065317946),\n",
       " ('B_avg_TD_att', 0.0065043992),\n",
       " ('B_Stance_Orthodox', 0.006434845),\n",
       " ('R_total_rounds_fought', 0.0064217537),\n",
       " ('B_avg_opp_TD_pct', 0.006392438),\n",
       " ('B_wins', 0.0063725915),\n",
       " ('R_avg_LEG_landed', 0.0063536316),\n",
       " ('B_avg_opp_BODY_att', 0.00633961),\n",
       " ('R_avg_DISTANCE_landed', 0.006324961),\n",
       " ('B_total_time_fought(seconds)', 0.00628786),\n",
       " ('R_avg_SUB_ATT', 0.0062560644),\n",
       " ('B_longest_win_streak', 0.0062462054),\n",
       " ('B_avg_opp_HEAD_att', 0.0062385034),\n",
       " ('R_avg_opp_HEAD_att', 0.0062292153),\n",
       " ('R_avg_BODY_att', 0.0062206634),\n",
       " ('B_avg_opp_LEG_landed', 0.006213716),\n",
       " ('B_avg_LEG_landed', 0.006196373),\n",
       " ('B_win_by_Submission', 0.00617624),\n",
       " ('R_current_lose_streak', 0.006147908),\n",
       " ('B_avg_SIG_STR_landed', 0.006144397),\n",
       " ('B_avg_CLINCH_att', 0.006106281),\n",
       " ('B_avg_opp_SIG_STR_pct', 0.0060857167),\n",
       " ('R_avg_opp_BODY_landed', 0.006085314),\n",
       " ('R_total_title_bouts', 0.0060844873),\n",
       " ('R_avg_TOTAL_STR_landed', 0.006081771),\n",
       " ('R_Height_cms', 0.0060648336),\n",
       " ('R_avg_SIG_STR_pct', 0.0060628),\n",
       " ('R_avg_TD_landed', 0.005971809),\n",
       " ('B_avg_BODY_att', 0.005968249),\n",
       " ('R_avg_opp_CLINCH_att', 0.0059443577),\n",
       " ('R_avg_opp_TD_pct', 0.005930312),\n",
       " ('B_avg_opp_TD_landed', 0.0058747674),\n",
       " ('R_avg_DISTANCE_att', 0.0058690156),\n",
       " ('R_longest_win_streak', 0.0058219484),\n",
       " ('B_avg_opp_SUB_ATT', 0.005808069),\n",
       " ('R_avg_opp_SIG_STR_landed', 0.0057401126),\n",
       " ('R_avg_CLINCH_att', 0.005604234),\n",
       " ('R_Reach_cms', 0.005554754),\n",
       " ('B_avg_LEG_att', 0.0055365656),\n",
       " ('R_avg_opp_LEG_att', 0.00549892),\n",
       " ('R_avg_opp_TOTAL_STR_att', 0.0054678135),\n",
       " ('R_avg_opp_TD_landed', 0.0054649254),\n",
       " ('B_Stance_Switch', 0.005407531),\n",
       " ('B_avg_opp_TOTAL_STR_att', 0.005395059),\n",
       " ('R_avg_opp_CLINCH_landed', 0.005386884),\n",
       " ('weight_class_Middleweight', 0.005371458),\n",
       " ('B_avg_KD', 0.005362478),\n",
       " ('weight_class_Welterweight', 0.005361825),\n",
       " ('B_total_rounds_fought', 0.0053084157),\n",
       " ('R_avg_LEG_att', 0.0052524987),\n",
       " ('R_avg_opp_TD_att', 0.0052223047),\n",
       " ('B_avg_opp_TD_att', 0.005195565),\n",
       " ('R_avg_opp_CTRL_time(seconds)', 0.005195324),\n",
       " ('R_avg_opp_LEG_landed', 0.0051550106),\n",
       " ('R_avg_TD_att', 0.0051216353),\n",
       " ('R_avg_BODY_landed', 0.005050478),\n",
       " ('B_avg_opp_BODY_landed', 0.005007535),\n",
       " ('R_avg_opp_REV', 0.0049957745),\n",
       " ('R_avg_CTRL_time(seconds)', 0.004967861),\n",
       " ('B_avg_opp_REV', 0.004943779),\n",
       " ('B_avg_CTRL_time(seconds)', 0.004926243),\n",
       " ('B_avg_SIG_STR_pct', 0.0048662275),\n",
       " ('B_current_win_streak', 0.004844644),\n",
       " ('R_avg_GROUND_att', 0.0047917385),\n",
       " ('B_avg_REV', 0.004668933),\n",
       " ('R_avg_HEAD_landed', 0.0045876526),\n",
       " ('R_avg_opp_DISTANCE_att', 0.004573355),\n",
       " ('R_avg_opp_SUB_ATT', 0.004521333),\n",
       " ('R_avg_opp_SIG_STR_att', 0.0045189057),\n",
       " ('R_avg_HEAD_att', 0.004356473),\n",
       " ('R_Stance_Southpaw', 0.004347643),\n",
       " ('R_avg_opp_GROUND_landed', 0.0042869183),\n",
       " ('B_Height_cms', 0.004247171),\n",
       " ('B_avg_opp_CTRL_time(seconds)', 0.004154631),\n",
       " ('R_Stance_Switch', 0.0040399497),\n",
       " ('B_win_by_Decision_Split', 0.003375528),\n",
       " ('B_win_by_TKO_Doctor_Stoppage', 0.0031830336),\n",
       " ('weight_class_Lightweight', 0.0030160835),\n",
       " ('weight_class_Bantamweight', 0.002853335),\n",
       " ('B_win_by_KO/TKO', 0.0024138459),\n",
       " ('R_win_by_KO/TKO', 0.0022765168),\n",
       " ('B_draw', 0.0),\n",
       " ('B_win_by_Decision_Majority', 0.0),\n",
       " ('R_draw', 0.0),\n",
       " ('weight_class_CatchWeight', 0.0),\n",
       " ('weight_class_Heavyweight', 0.0),\n",
       " ('weight_class_WomenFeatherweight', 0.0),\n",
       " ('weight_class_WomenFlyweight', 0.0),\n",
       " ('weight_class_WomenStrawweight', 0.0),\n",
       " ('B_Stance_Open Stance', 0.0),\n",
       " ('B_Stance_Sideways', 0.0),\n",
       " ('R_Stance_Open Stance', 0.0),\n",
       " ('R_Stance_Sideways', 0.0)]"
      ]
     },
     "execution_count": 13,
     "metadata": {},
     "output_type": "execute_result"
    }
   ],
   "source": [
    "feat_imps = {}\n",
    "for i, imp in enumerate(model1.feature_importances_):\n",
    "    feat_imps[X_train.columns[i]] = imp\n",
    "\n",
    "sorted_imp_feats = (sorted(feat_imps.items(), key = lambda x: x[1], reverse=True))\n",
    "sorted_imp_feats"
   ]
  },
  {
   "cell_type": "markdown",
   "metadata": {},
   "source": [
    "### Since dataset is imbalanced let's try setting scale_pos_weight to see if we get an improvement"
   ]
  },
  {
   "cell_type": "code",
   "execution_count": 14,
   "metadata": {},
   "outputs": [
    {
     "name": "stdout",
     "output_type": "stream",
     "text": [
      "Best number of estimators = 19\n"
     ]
    },
    {
     "name": "stderr",
     "output_type": "stream",
     "text": [
      "/Users/justinmilner/opt/anaconda3/lib/python3.8/site-packages/xgboost/sklearn.py:888: UserWarning: The use of label encoder in XGBClassifier is deprecated and will be removed in a future release. To remove this warning, do the following: 1) Pass option use_label_encoder=False when constructing XGBClassifier object; and 2) Encode your labels (y) as integers starting with 0, i.e. 0, 1, 2, ..., [num_class - 1].\n",
      "  warnings.warn(label_encoder_deprecation_msg, UserWarning)\n"
     ]
    },
    {
     "name": "stdout",
     "output_type": "stream",
     "text": [
      "\n",
      "Model Report: \n",
      "Accuracy (Test): 0.6904\n",
      "AUC Score (Test): 0.7025\n"
     ]
    },
    {
     "data": {
      "text/plain": [
       "<AxesSubplot:title={'center':'Confusion Matrix'}, xlabel='Predicted label', ylabel='True label'>"
      ]
     },
     "execution_count": 14,
     "metadata": {},
     "output_type": "execute_result"
    },
    {
     "data": {
      "image/png": "[encoded data removed]",
      "text/plain": [
       "<Figure size 432x288 with 2 Axes>"
      ]
     },
     "metadata": {
      "needs_background": "light"
     },
     "output_type": "display_data"
    }
   ],
   "source": [
    "model2 = XGBClassifier(random_state=43, n_jobs=-1, scale_pos_weight=0.7)\n",
    "\n",
    "y2_preds = modelfit(model2, X_train, y_train, X_test, y_test)\n",
    "\n",
    "cm = confusion_matrix(y_test, y2_preds)\n",
    "classes = unique_labels(y_test, y2_preds)\n",
    "\n",
    "plot_confusion(cm, classes)"
   ]
  },
  {
   "cell_type": "markdown",
   "metadata": {},
   "source": [
    "### Hyperparameter tuning "
   ]
  },
  {
   "cell_type": "code",
   "execution_count": 15,
   "metadata": {},
   "outputs": [
    {
     "name": "stdout",
     "output_type": "stream",
     "text": [
      "Best number of estimators = 94\n"
     ]
    },
    {
     "name": "stderr",
     "output_type": "stream",
     "text": [
      "/Users/justinmilner/opt/anaconda3/lib/python3.8/site-packages/xgboost/sklearn.py:888: UserWarning: The use of label encoder in XGBClassifier is deprecated and will be removed in a future release. To remove this warning, do the following: 1) Pass option use_label_encoder=False when constructing XGBClassifier object; and 2) Encode your labels (y) as integers starting with 0, i.e. 0, 1, 2, ..., [num_class - 1].\n",
      "  warnings.warn(label_encoder_deprecation_msg, UserWarning)\n"
     ]
    },
    {
     "name": "stdout",
     "output_type": "stream",
     "text": [
      "\n",
      "Model Report: \n",
      "Accuracy (Test): 0.7056\n",
      "AUC Score (Test): 0.7388\n"
     ]
    },
    {
     "data": {
      "text/plain": [
       "<AxesSubplot:title={'center':'Confusion Matrix'}, xlabel='Predicted label', ylabel='True label'>"
      ]
     },
     "execution_count": 15,
     "metadata": {},
     "output_type": "execute_result"
    },
    {
     "data": {
      "image/png": "[encoded data removed]",
      "text/plain": [
       "<Figure size 432x288 with 2 Axes>"
      ]
     },
     "metadata": {
      "needs_background": "light"
     },
     "output_type": "display_data"
    }
   ],
   "source": [
    "model3 = XGBClassifier(\n",
    " learning_rate =0.1,\n",
    " n_estimators=1000,\n",
    " max_depth=5,\n",
    " min_child_weight=1,\n",
    " gamma=0,\n",
    " subsample=0.8,\n",
    " colsample_bytree=0.8,\n",
    " objective= 'binary:logistic',\n",
    " nthread=4,\n",
    " scale_pos_weight=0.75,\n",
    ")\n",
    "\n",
    "y3_preds = modelfit(model3, X_train, y_train, X_test, y_test)\n",
    "\n",
    "cm = confusion_matrix(y_test, y3_preds)\n",
    "classes = unique_labels(y_test, y3_preds)\n",
    "\n",
    "plot_confusion(cm, classes)"
   ]
  },
  {
   "cell_type": "code",
   "execution_count": null,
   "metadata": {},
   "outputs": [],
   "source": []
  },
  {
   "cell_type": "markdown",
   "metadata": {},
   "source": [
    "### Oversampling"
   ]
  },
  {
   "cell_type": "code",
   "execution_count": 16,
   "metadata": {},
   "outputs": [],
   "source": [
    "from imblearn.over_sampling import ADASYN"
   ]
  },
  {
   "cell_type": "code",
   "execution_count": 17,
   "metadata": {},
   "outputs": [],
   "source": [
    "over_sampler = ADASYN()\n",
    "X_resampled, y_resampled = over_sampler.fit_sample(X_train, y_train)"
   ]
  },
  {
   "cell_type": "code",
   "execution_count": 18,
   "metadata": {},
   "outputs": [
    {
     "data": {
      "text/plain": [
       "1    3580\n",
       "0    3504\n",
       "dtype: int64"
      ]
     },
     "execution_count": 18,
     "metadata": {},
     "output_type": "execute_result"
    }
   ],
   "source": [
    "pd.Series(y_resampled).value_counts()"
   ]
  },
  {
   "cell_type": "code",
   "execution_count": 19,
   "metadata": {},
   "outputs": [
    {
     "name": "stdout",
     "output_type": "stream",
     "text": [
      "Best number of estimators = 100\n"
     ]
    },
    {
     "name": "stderr",
     "output_type": "stream",
     "text": [
      "/Users/justinmilner/opt/anaconda3/lib/python3.8/site-packages/xgboost/sklearn.py:888: UserWarning: The use of label encoder in XGBClassifier is deprecated and will be removed in a future release. To remove this warning, do the following: 1) Pass option use_label_encoder=False when constructing XGBClassifier object; and 2) Encode your labels (y) as integers starting with 0, i.e. 0, 1, 2, ..., [num_class - 1].\n",
      "  warnings.warn(label_encoder_deprecation_msg, UserWarning)\n"
     ]
    },
    {
     "name": "stdout",
     "output_type": "stream",
     "text": [
      "\n",
      "Model Report: \n",
      "Accuracy (Test): 0.6954\n",
      "AUC Score (Test): 0.7096\n"
     ]
    },
    {
     "data": {
      "text/plain": [
       "<AxesSubplot:title={'center':'Confusion Matrix'}, xlabel='Predicted label', ylabel='True label'>"
      ]
     },
     "execution_count": 19,
     "metadata": {},
     "output_type": "execute_result"
    },
    {
     "data": {
      "image/png": "[encoded data removed]",
      "text/plain": [
       "<Figure size 432x288 with 2 Axes>"
      ]
     },
     "metadata": {
      "needs_background": "light"
     },
     "output_type": "display_data"
    }
   ],
   "source": [
    "model4 = XGBClassifier(n_jobs=-1, random_state=43)\n",
    "\n",
    "y4_preds = modelfit(model4, X_resampled, y_resampled, X_test, y_test)\n",
    "\n",
    "cm = confusion_matrix(y_test, y4_preds)\n",
    "classes = unique_labels(y_test, y4_preds)\n",
    "\n",
    "plot_confusion(cm, classes)"
   ]
  },
  {
   "cell_type": "markdown",
   "metadata": {},
   "source": [
    "### Hyperparameter tuning for the oversampled data"
   ]
  },
  {
   "cell_type": "code",
   "execution_count": 20,
   "metadata": {},
   "outputs": [
    {
     "name": "stdout",
     "output_type": "stream",
     "text": [
      "Best number of estimators = 244\n"
     ]
    },
    {
     "name": "stderr",
     "output_type": "stream",
     "text": [
      "/Users/justinmilner/opt/anaconda3/lib/python3.8/site-packages/xgboost/sklearn.py:888: UserWarning: The use of label encoder in XGBClassifier is deprecated and will be removed in a future release. To remove this warning, do the following: 1) Pass option use_label_encoder=False when constructing XGBClassifier object; and 2) Encode your labels (y) as integers starting with 0, i.e. 0, 1, 2, ..., [num_class - 1].\n",
      "  warnings.warn(label_encoder_deprecation_msg, UserWarning)\n"
     ]
    },
    {
     "name": "stdout",
     "output_type": "stream",
     "text": [
      "\n",
      "Model Report: \n",
      "Accuracy (Test): 0.6684\n",
      "AUC Score (Test): 0.7068\n"
     ]
    },
    {
     "data": {
      "text/plain": [
       "<AxesSubplot:title={'center':'Confusion Matrix'}, xlabel='Predicted label', ylabel='True label'>"
      ]
     },
     "execution_count": 20,
     "metadata": {},
     "output_type": "execute_result"
    },
    {
     "data": {
      "image/png": "[encoded data removed]",
      "text/plain": [
       "<Figure size 432x288 with 2 Axes>"
      ]
     },
     "metadata": {
      "needs_background": "light"
     },
     "output_type": "display_data"
    }
   ],
   "source": [
    "model5 = XGBClassifier(\n",
    " learning_rate =0.1,\n",
    " n_estimators=244,\n",
    " max_depth=5,\n",
    " min_child_weight=1,\n",
    " gamma=0,\n",
    " subsample=0.8,\n",
    " colsample_bytree=0.8,\n",
    " objective= 'binary:logistic',\n",
    " nthread=4,\n",
    " scale_pos_weight=1,\n",
    ")\n",
    "\n",
    "y5_preds = modelfit(model5, X_resampled, y_resampled, X_test, y_test)\n",
    "\n",
    "cm = confusion_matrix(y_test, y5_preds)\n",
    "classes = unique_labels(y_test, y5_preds)\n",
    "\n",
    "plot_confusion(cm, classes)"
   ]
  },
  {
   "cell_type": "code",
   "execution_count": 36,
   "metadata": {},
   "outputs": [
    {
     "data": {
      "text/html": [
       "<div>\n",
       "<style scoped>\n",
       "    .dataframe tbody tr th:only-of-type {\n",
       "        vertical-align: middle;\n",
       "    }\n",
       "\n",
       "    .dataframe tbody tr th {\n",
       "        vertical-align: top;\n",
       "    }\n",
       "\n",
       "    .dataframe thead th {\n",
       "        text-align: right;\n",
       "    }\n",
       "</style>\n",
       "<table border=\"1\" class=\"dataframe\">\n",
       "  <thead>\n",
       "    <tr style=\"text-align: right;\">\n",
       "      <th></th>\n",
       "      <th>0</th>\n",
       "      <th>1</th>\n",
       "      <th>2</th>\n",
       "      <th>3</th>\n",
       "      <th>4</th>\n",
       "      <th>5</th>\n",
       "      <th>6</th>\n",
       "      <th>7</th>\n",
       "      <th>8</th>\n",
       "      <th>9</th>\n",
       "      <th>...</th>\n",
       "      <th>7864</th>\n",
       "      <th>7865</th>\n",
       "      <th>7866</th>\n",
       "      <th>7867</th>\n",
       "      <th>7868</th>\n",
       "      <th>7869</th>\n",
       "      <th>7870</th>\n",
       "      <th>7871</th>\n",
       "      <th>7872</th>\n",
       "      <th>7873</th>\n",
       "    </tr>\n",
       "  </thead>\n",
       "  <tbody>\n",
       "    <tr>\n",
       "      <th>title_bout</th>\n",
       "      <td>False</td>\n",
       "      <td>False</td>\n",
       "      <td>False</td>\n",
       "      <td>False</td>\n",
       "      <td>False</td>\n",
       "      <td>False</td>\n",
       "      <td>False</td>\n",
       "      <td>False</td>\n",
       "      <td>False</td>\n",
       "      <td>False</td>\n",
       "      <td>...</td>\n",
       "      <td>False</td>\n",
       "      <td>False</td>\n",
       "      <td>False</td>\n",
       "      <td>True</td>\n",
       "      <td>True</td>\n",
       "      <td>False</td>\n",
       "      <td>False</td>\n",
       "      <td>False</td>\n",
       "      <td>False</td>\n",
       "      <td>False</td>\n",
       "    </tr>\n",
       "    <tr>\n",
       "      <th>B_avg_KD</th>\n",
       "      <td>-0.559218</td>\n",
       "      <td>0.884011</td>\n",
       "      <td>-0.514117</td>\n",
       "      <td>-0.514117</td>\n",
       "      <td>-0.198411</td>\n",
       "      <td>-0.559218</td>\n",
       "      <td>-0.423915</td>\n",
       "      <td>-0.108209</td>\n",
       "      <td>-0.514117</td>\n",
       "      <td>-0.514117</td>\n",
       "      <td>...</td>\n",
       "      <td>0.053941</td>\n",
       "      <td>1.087601</td>\n",
       "      <td>1.411004</td>\n",
       "      <td>1.299515</td>\n",
       "      <td>-0.3266</td>\n",
       "      <td>-0.553649</td>\n",
       "      <td>-0.53837</td>\n",
       "      <td>-0.514117</td>\n",
       "      <td>-0.315813</td>\n",
       "      <td>-0.53589</td>\n",
       "    </tr>\n",
       "    <tr>\n",
       "      <th>B_avg_opp_KD</th>\n",
       "      <td>-0.459685</td>\n",
       "      <td>-0.459685</td>\n",
       "      <td>-0.459685</td>\n",
       "      <td>-0.459685</td>\n",
       "      <td>-0.459685</td>\n",
       "      <td>-0.459685</td>\n",
       "      <td>-0.034824</td>\n",
       "      <td>-0.459685</td>\n",
       "      <td>-0.459685</td>\n",
       "      <td>-0.459685</td>\n",
       "      <td>...</td>\n",
       "      <td>-0.421159</td>\n",
       "      <td>-0.432471</td>\n",
       "      <td>-0.42036</td>\n",
       "      <td>-0.459685</td>\n",
       "      <td>-0.230581</td>\n",
       "      <td>2.519489</td>\n",
       "      <td>0.454197</td>\n",
       "      <td>-0.459685</td>\n",
       "      <td>-0.459685</td>\n",
       "      <td>-0.459685</td>\n",
       "    </tr>\n",
       "    <tr>\n",
       "      <th>B_avg_SIG_STR_pct</th>\n",
       "      <td>-0.286822</td>\n",
       "      <td>1.812629</td>\n",
       "      <td>-0.024391</td>\n",
       "      <td>-0.024391</td>\n",
       "      <td>0.724632</td>\n",
       "      <td>0.544211</td>\n",
       "      <td>0.056765</td>\n",
       "      <td>2.96367</td>\n",
       "      <td>-0.024391</td>\n",
       "      <td>-0.024391</td>\n",
       "      <td>...</td>\n",
       "      <td>-0.294353</td>\n",
       "      <td>0.495046</td>\n",
       "      <td>0.121787</td>\n",
       "      <td>-0.192791</td>\n",
       "      <td>-0.136088</td>\n",
       "      <td>-0.791139</td>\n",
       "      <td>-0.100832</td>\n",
       "      <td>-0.024391</td>\n",
       "      <td>0.037425</td>\n",
       "      <td>-0.203868</td>\n",
       "    </tr>\n",
       "    <tr>\n",
       "      <th>B_avg_opp_SIG_STR_pct</th>\n",
       "      <td>0.535482</td>\n",
       "      <td>-1.099925</td>\n",
       "      <td>-0.045517</td>\n",
       "      <td>-0.045517</td>\n",
       "      <td>1.256353</td>\n",
       "      <td>0.352575</td>\n",
       "      <td>-0.241874</td>\n",
       "      <td>3.596154</td>\n",
       "      <td>-0.045517</td>\n",
       "      <td>-0.045517</td>\n",
       "      <td>...</td>\n",
       "      <td>-1.193589</td>\n",
       "      <td>-0.346138</td>\n",
       "      <td>0.890045</td>\n",
       "      <td>0.341114</td>\n",
       "      <td>-0.243471</td>\n",
       "      <td>-1.309222</td>\n",
       "      <td>-0.559009</td>\n",
       "      <td>-0.045517</td>\n",
       "      <td>-0.761888</td>\n",
       "      <td>0.141469</td>\n",
       "    </tr>\n",
       "    <tr>\n",
       "      <th>...</th>\n",
       "      <td>...</td>\n",
       "      <td>...</td>\n",
       "      <td>...</td>\n",
       "      <td>...</td>\n",
       "      <td>...</td>\n",
       "      <td>...</td>\n",
       "      <td>...</td>\n",
       "      <td>...</td>\n",
       "      <td>...</td>\n",
       "      <td>...</td>\n",
       "      <td>...</td>\n",
       "      <td>...</td>\n",
       "      <td>...</td>\n",
       "      <td>...</td>\n",
       "      <td>...</td>\n",
       "      <td>...</td>\n",
       "      <td>...</td>\n",
       "      <td>...</td>\n",
       "      <td>...</td>\n",
       "      <td>...</td>\n",
       "      <td>...</td>\n",
       "    </tr>\n",
       "    <tr>\n",
       "      <th>R_Stance_Open Stance</th>\n",
       "      <td>-0.050478</td>\n",
       "      <td>-0.050478</td>\n",
       "      <td>-0.050478</td>\n",
       "      <td>-0.050478</td>\n",
       "      <td>-0.050478</td>\n",
       "      <td>-0.050478</td>\n",
       "      <td>-0.050478</td>\n",
       "      <td>-0.050478</td>\n",
       "      <td>-0.050478</td>\n",
       "      <td>-0.050478</td>\n",
       "      <td>...</td>\n",
       "      <td>-0.050478</td>\n",
       "      <td>3.826729</td>\n",
       "      <td>19.810771</td>\n",
       "      <td>-0.050478</td>\n",
       "      <td>-0.050478</td>\n",
       "      <td>-0.050478</td>\n",
       "      <td>-0.050478</td>\n",
       "      <td>-0.050478</td>\n",
       "      <td>-0.050478</td>\n",
       "      <td>-0.050478</td>\n",
       "    </tr>\n",
       "    <tr>\n",
       "      <th>R_Stance_Orthodox</th>\n",
       "      <td>0.563392</td>\n",
       "      <td>0.563392</td>\n",
       "      <td>-1.774963</td>\n",
       "      <td>-1.774963</td>\n",
       "      <td>0.563392</td>\n",
       "      <td>0.563392</td>\n",
       "      <td>0.563392</td>\n",
       "      <td>-1.774963</td>\n",
       "      <td>-1.774963</td>\n",
       "      <td>0.563392</td>\n",
       "      <td>...</td>\n",
       "      <td>-0.185434</td>\n",
       "      <td>-1.774963</td>\n",
       "      <td>-1.774963</td>\n",
       "      <td>-1.774963</td>\n",
       "      <td>0.563392</td>\n",
       "      <td>-1.486207</td>\n",
       "      <td>0.563392</td>\n",
       "      <td>0.563392</td>\n",
       "      <td>0.563392</td>\n",
       "      <td>0.563392</td>\n",
       "    </tr>\n",
       "    <tr>\n",
       "      <th>R_Stance_Sideways</th>\n",
       "      <td>-0.018411</td>\n",
       "      <td>-0.018411</td>\n",
       "      <td>-0.018411</td>\n",
       "      <td>-0.018411</td>\n",
       "      <td>-0.018411</td>\n",
       "      <td>-0.018411</td>\n",
       "      <td>-0.018411</td>\n",
       "      <td>-0.018411</td>\n",
       "      <td>-0.018411</td>\n",
       "      <td>-0.018411</td>\n",
       "      <td>...</td>\n",
       "      <td>-0.018411</td>\n",
       "      <td>-0.018411</td>\n",
       "      <td>-0.018411</td>\n",
       "      <td>-0.018411</td>\n",
       "      <td>-0.018411</td>\n",
       "      <td>-0.018411</td>\n",
       "      <td>-0.018411</td>\n",
       "      <td>-0.018411</td>\n",
       "      <td>-0.018411</td>\n",
       "      <td>-0.018411</td>\n",
       "    </tr>\n",
       "    <tr>\n",
       "      <th>R_Stance_Southpaw</th>\n",
       "      <td>-0.507825</td>\n",
       "      <td>-0.507825</td>\n",
       "      <td>1.969184</td>\n",
       "      <td>-0.507825</td>\n",
       "      <td>-0.507825</td>\n",
       "      <td>-0.507825</td>\n",
       "      <td>-0.507825</td>\n",
       "      <td>1.969184</td>\n",
       "      <td>1.969184</td>\n",
       "      <td>-0.507825</td>\n",
       "      <td>...</td>\n",
       "      <td>0.285403</td>\n",
       "      <td>1.485636</td>\n",
       "      <td>-0.507825</td>\n",
       "      <td>1.969184</td>\n",
       "      <td>-0.507825</td>\n",
       "      <td>-0.507825</td>\n",
       "      <td>-0.507825</td>\n",
       "      <td>-0.507825</td>\n",
       "      <td>-0.507825</td>\n",
       "      <td>-0.507825</td>\n",
       "    </tr>\n",
       "    <tr>\n",
       "      <th>R_Stance_Switch</th>\n",
       "      <td>-0.184847</td>\n",
       "      <td>-0.184847</td>\n",
       "      <td>-0.184847</td>\n",
       "      <td>5.409868</td>\n",
       "      <td>-0.184847</td>\n",
       "      <td>-0.184847</td>\n",
       "      <td>-0.184847</td>\n",
       "      <td>-0.184847</td>\n",
       "      <td>-0.184847</td>\n",
       "      <td>-0.184847</td>\n",
       "      <td>...</td>\n",
       "      <td>-0.184847</td>\n",
       "      <td>-0.184847</td>\n",
       "      <td>-0.184847</td>\n",
       "      <td>-0.184847</td>\n",
       "      <td>-0.184847</td>\n",
       "      <td>4.718994</td>\n",
       "      <td>-0.184847</td>\n",
       "      <td>-0.184847</td>\n",
       "      <td>-0.184847</td>\n",
       "      <td>-0.184847</td>\n",
       "    </tr>\n",
       "  </tbody>\n",
       "</table>\n",
       "<p>159 rows × 7874 columns</p>\n",
       "</div>"
      ],
      "text/plain": [
       "                           0         1         2         3         4     \\\n",
       "title_bout                False     False     False     False     False   \n",
       "B_avg_KD              -0.559218  0.884011 -0.514117 -0.514117 -0.198411   \n",
       "B_avg_opp_KD          -0.459685 -0.459685 -0.459685 -0.459685 -0.459685   \n",
       "B_avg_SIG_STR_pct     -0.286822  1.812629 -0.024391 -0.024391  0.724632   \n",
       "B_avg_opp_SIG_STR_pct  0.535482 -1.099925 -0.045517 -0.045517  1.256353   \n",
       "...                         ...       ...       ...       ...       ...   \n",
       "R_Stance_Open Stance  -0.050478 -0.050478 -0.050478 -0.050478 -0.050478   \n",
       "R_Stance_Orthodox      0.563392  0.563392 -1.774963 -1.774963  0.563392   \n",
       "R_Stance_Sideways     -0.018411 -0.018411 -0.018411 -0.018411 -0.018411   \n",
       "R_Stance_Southpaw     -0.507825 -0.507825  1.969184 -0.507825 -0.507825   \n",
       "R_Stance_Switch       -0.184847 -0.184847 -0.184847  5.409868 -0.184847   \n",
       "\n",
       "                           5         6         7         8         9     ...  \\\n",
       "title_bout                False     False     False     False     False  ...   \n",
       "B_avg_KD              -0.559218 -0.423915 -0.108209 -0.514117 -0.514117  ...   \n",
       "B_avg_opp_KD          -0.459685 -0.034824 -0.459685 -0.459685 -0.459685  ...   \n",
       "B_avg_SIG_STR_pct      0.544211  0.056765   2.96367 -0.024391 -0.024391  ...   \n",
       "B_avg_opp_SIG_STR_pct  0.352575 -0.241874  3.596154 -0.045517 -0.045517  ...   \n",
       "...                         ...       ...       ...       ...       ...  ...   \n",
       "R_Stance_Open Stance  -0.050478 -0.050478 -0.050478 -0.050478 -0.050478  ...   \n",
       "R_Stance_Orthodox      0.563392  0.563392 -1.774963 -1.774963  0.563392  ...   \n",
       "R_Stance_Sideways     -0.018411 -0.018411 -0.018411 -0.018411 -0.018411  ...   \n",
       "R_Stance_Southpaw     -0.507825 -0.507825  1.969184  1.969184 -0.507825  ...   \n",
       "R_Stance_Switch       -0.184847 -0.184847 -0.184847 -0.184847 -0.184847  ...   \n",
       "\n",
       "                           7864      7865       7866      7867      7868  \\\n",
       "title_bout                False     False      False      True      True   \n",
       "B_avg_KD               0.053941  1.087601   1.411004  1.299515   -0.3266   \n",
       "B_avg_opp_KD          -0.421159 -0.432471   -0.42036 -0.459685 -0.230581   \n",
       "B_avg_SIG_STR_pct     -0.294353  0.495046   0.121787 -0.192791 -0.136088   \n",
       "B_avg_opp_SIG_STR_pct -1.193589 -0.346138   0.890045  0.341114 -0.243471   \n",
       "...                         ...       ...        ...       ...       ...   \n",
       "R_Stance_Open Stance  -0.050478  3.826729  19.810771 -0.050478 -0.050478   \n",
       "R_Stance_Orthodox     -0.185434 -1.774963  -1.774963 -1.774963  0.563392   \n",
       "R_Stance_Sideways     -0.018411 -0.018411  -0.018411 -0.018411 -0.018411   \n",
       "R_Stance_Southpaw      0.285403  1.485636  -0.507825  1.969184 -0.507825   \n",
       "R_Stance_Switch       -0.184847 -0.184847  -0.184847 -0.184847 -0.184847   \n",
       "\n",
       "                           7869      7870      7871      7872      7873  \n",
       "title_bout                False     False     False     False     False  \n",
       "B_avg_KD              -0.553649  -0.53837 -0.514117 -0.315813  -0.53589  \n",
       "B_avg_opp_KD           2.519489  0.454197 -0.459685 -0.459685 -0.459685  \n",
       "B_avg_SIG_STR_pct     -0.791139 -0.100832 -0.024391  0.037425 -0.203868  \n",
       "B_avg_opp_SIG_STR_pct -1.309222 -0.559009 -0.045517 -0.761888  0.141469  \n",
       "...                         ...       ...       ...       ...       ...  \n",
       "R_Stance_Open Stance  -0.050478 -0.050478 -0.050478 -0.050478 -0.050478  \n",
       "R_Stance_Orthodox     -1.486207  0.563392  0.563392  0.563392  0.563392  \n",
       "R_Stance_Sideways     -0.018411 -0.018411 -0.018411 -0.018411 -0.018411  \n",
       "R_Stance_Southpaw     -0.507825 -0.507825 -0.507825 -0.507825 -0.507825  \n",
       "R_Stance_Switch        4.718994 -0.184847 -0.184847 -0.184847 -0.184847  \n",
       "\n",
       "[159 rows x 7874 columns]"
      ]
     },
     "execution_count": 36,
     "metadata": {},
     "output_type": "execute_result"
    }
   ],
   "source": [
    "X_resampled.T"
   ]
  },
  {
   "cell_type": "code",
   "execution_count": 21,
   "metadata": {},
   "outputs": [
    {
     "name": "stderr",
     "output_type": "stream",
     "text": [
      "/Users/justinmilner/opt/anaconda3/lib/python3.8/site-packages/xgboost/sklearn.py:888: UserWarning: The use of label encoder in XGBClassifier is deprecated and will be removed in a future release. To remove this warning, do the following: 1) Pass option use_label_encoder=False when constructing XGBClassifier object; and 2) Encode your labels (y) as integers starting with 0, i.e. 0, 1, 2, ..., [num_class - 1].\n",
      "  warnings.warn(label_encoder_deprecation_msg, UserWarning)\n"
     ]
    },
    {
     "name": "stdout",
     "output_type": "stream",
     "text": [
      "\n",
      "Model Report: \n",
      "Accuracy (Test): 0.6904\n",
      "AUC Score (Test): 0.7392\n"
     ]
    },
    {
     "data": {
      "text/plain": [
       "<AxesSubplot:title={'center':'Confusion Matrix'}, xlabel='Predicted label', ylabel='True label'>"
      ]
     },
     "execution_count": 21,
     "metadata": {},
     "output_type": "execute_result"
    },
    {
     "data": {
      "image/png": "[encoded data removed]",
      "text/plain": [
       "<Figure size 432x288 with 2 Axes>"
      ]
     },
     "metadata": {
      "needs_background": "light"
     },
     "output_type": "display_data"
    }
   ],
   "source": [
    "model6 = XGBClassifier(learning_rate =0.1, n_estimators=244, max_depth=4,\n",
    "                     min_child_weight=1, gamma=0.1, subsample=0.8, colsample_bytree=0.8,\n",
    "                     objective= 'binary:logistic', reg_alpha= 0, scale_pos_weight=1)\n",
    "\n",
    "y6_preds = modelfit(model6, X_resampled, y_resampled, X_test, y_test, useTrainCV=False)\n",
    "\n",
    "cm = confusion_matrix(y_test, y6_preds)\n",
    "classes = ['blue', 'red']\n",
    "\n",
    "plot_confusion(cm, classes)"
   ]
  },
  {
   "cell_type": "code",
   "execution_count": 22,
   "metadata": {},
   "outputs": [],
   "source": [
    "X_os, y_os = X_resampled, y_resampled = over_sampler.fit_sample(X, label_encoded_y)"
   ]
  },
  {
   "cell_type": "code",
   "execution_count": 23,
   "metadata": {},
   "outputs": [
    {
     "name": "stdout",
     "output_type": "stream",
     "text": [
      "              precision    recall  f1-score   support\n",
      "\n",
      "           0       0.51      0.33      0.40       192\n",
      "           1       0.72      0.85      0.78       399\n",
      "\n",
      "    accuracy                           0.68       591\n",
      "   macro avg       0.62      0.59      0.59       591\n",
      "weighted avg       0.66      0.68      0.66       591\n",
      "\n"
     ]
    }
   ],
   "source": [
    "print(classification_report(y_test, y1_preds))"
   ]
  },
  {
   "cell_type": "code",
   "execution_count": 24,
   "metadata": {},
   "outputs": [
    {
     "name": "stdout",
     "output_type": "stream",
     "text": [
      "              precision    recall  f1-score   support\n",
      "\n",
      "           0       0.53      0.45      0.49       192\n",
      "           1       0.75      0.80      0.78       399\n",
      "\n",
      "    accuracy                           0.69       591\n",
      "   macro avg       0.64      0.63      0.63       591\n",
      "weighted avg       0.68      0.69      0.68       591\n",
      "\n"
     ]
    }
   ],
   "source": [
    "print(classification_report(y_test, y2_preds))"
   ]
  },
  {
   "cell_type": "code",
   "execution_count": 25,
   "metadata": {},
   "outputs": [
    {
     "name": "stdout",
     "output_type": "stream",
     "text": [
      "              precision    recall  f1-score   support\n",
      "\n",
      "           0       0.56      0.42      0.48       192\n",
      "           1       0.75      0.84      0.79       399\n",
      "\n",
      "    accuracy                           0.71       591\n",
      "   macro avg       0.66      0.63      0.64       591\n",
      "weighted avg       0.69      0.71      0.69       591\n",
      "\n"
     ]
    }
   ],
   "source": [
    "print(classification_report(y_test, y3_preds))"
   ]
  },
  {
   "cell_type": "code",
   "execution_count": 26,
   "metadata": {},
   "outputs": [
    {
     "name": "stdout",
     "output_type": "stream",
     "text": [
      "              precision    recall  f1-score   support\n",
      "\n",
      "           0       0.54      0.40      0.46       192\n",
      "           1       0.74      0.84      0.79       399\n",
      "\n",
      "    accuracy                           0.70       591\n",
      "   macro avg       0.64      0.62      0.62       591\n",
      "weighted avg       0.68      0.70      0.68       591\n",
      "\n"
     ]
    }
   ],
   "source": [
    "print(classification_report(y_test, y4_preds))"
   ]
  },
  {
   "cell_type": "code",
   "execution_count": 27,
   "metadata": {},
   "outputs": [
    {
     "name": "stdout",
     "output_type": "stream",
     "text": [
      "              precision    recall  f1-score   support\n",
      "\n",
      "           0       0.49      0.37      0.42       192\n",
      "           1       0.73      0.81      0.77       399\n",
      "\n",
      "    accuracy                           0.67       591\n",
      "   macro avg       0.61      0.59      0.59       591\n",
      "weighted avg       0.65      0.67      0.65       591\n",
      "\n"
     ]
    }
   ],
   "source": [
    "print(classification_report(y_test, y5_preds))"
   ]
  },
  {
   "cell_type": "code",
   "execution_count": 28,
   "metadata": {},
   "outputs": [
    {
     "name": "stdout",
     "output_type": "stream",
     "text": [
      "              precision    recall  f1-score   support\n",
      "\n",
      "           0       0.49      0.37      0.42       192\n",
      "           1       0.73      0.81      0.77       399\n",
      "\n",
      "    accuracy                           0.67       591\n",
      "   macro avg       0.61      0.59      0.59       591\n",
      "weighted avg       0.65      0.67      0.65       591\n",
      "\n"
     ]
    }
   ],
   "source": [
    "print(classification_report(y_test, y5_preds))"
   ]
  },
  {
   "cell_type": "code",
   "execution_count": 29,
   "metadata": {},
   "outputs": [
    {
     "name": "stdout",
     "output_type": "stream",
     "text": [
      "              precision    recall  f1-score   support\n",
      "\n",
      "           0       0.53      0.41      0.46       192\n",
      "           1       0.74      0.83      0.78       399\n",
      "\n",
      "    accuracy                           0.69       591\n",
      "   macro avg       0.64      0.62      0.62       591\n",
      "weighted avg       0.67      0.69      0.68       591\n",
      "\n"
     ]
    }
   ],
   "source": [
    "print(classification_report(y_test, y6_preds))"
   ]
  },
  {
   "cell_type": "code",
   "execution_count": 30,
   "metadata": {},
   "outputs": [
    {
     "name": "stderr",
     "output_type": "stream",
     "text": [
      "/Users/justinmilner/opt/anaconda3/lib/python3.8/site-packages/xgboost/sklearn.py:888: UserWarning: The use of label encoder in XGBClassifier is deprecated and will be removed in a future release. To remove this warning, do the following: 1) Pass option use_label_encoder=False when constructing XGBClassifier object; and 2) Encode your labels (y) as integers starting with 0, i.e. 0, 1, 2, ..., [num_class - 1].\n",
      "  warnings.warn(label_encoder_deprecation_msg, UserWarning)\n"
     ]
    },
    {
     "name": "stdout",
     "output_type": "stream",
     "text": [
      "[10:49:32] WARNING: /Users/runner/miniforge3/conda-bld/xgboost_1607604592557/work/src/learner.cc:1061: Starting in XGBoost 1.3.0, the default evaluation metric used with the objective 'binary:logistic' was changed from 'error' to 'logloss'. Explicitly set eval_metric if you'd like to restore the old behavior.\n"
     ]
    },
    {
     "data": {
      "text/plain": [
       "XGBClassifier(base_score=0.5, booster='gbtree', colsample_bylevel=1,\n",
       "              colsample_bynode=1, colsample_bytree=0.8, gamma=0.1, gpu_id=-1,\n",
       "              importance_type='gain', interaction_constraints='',\n",
       "              learning_rate=0.1, max_delta_step=0, max_depth=4,\n",
       "              min_child_weight=1, missing=nan, monotone_constraints='()',\n",
       "              n_estimators=244, n_jobs=4, num_parallel_tree=1, random_state=0,\n",
       "              reg_alpha=0, reg_lambda=1, scale_pos_weight=1, subsample=0.8,\n",
       "              tree_method='exact', validate_parameters=1, verbosity=None)"
      ]
     },
     "execution_count": 30,
     "metadata": {},
     "output_type": "execute_result"
    }
   ],
   "source": [
    "model = model6\n",
    "\n",
    "model.fit(np.array(X_os), np.array(y_os))"
   ]
  },
  {
   "cell_type": "code",
   "execution_count": 32,
   "metadata": {},
   "outputs": [],
   "source": [
    "with open('../data/model-os.sav', 'wb') as mdl:\n",
    "    pickle.dump(model, mdl)"
   ]
  },
  {
   "cell_type": "markdown",
   "metadata": {},
   "source": [
    "title_bout\tB_avg_KD\tB_avg_opp_KD\tB_avg_SIG_STR_pct\tB_avg_opp_SIG_STR_pct\tB_avg_TD_pct\tB_avg_opp_TD_pct\tB_avg_SUB_ATT\tB_avg_opp_SUB_ATT\tB_avg_REV\t...\tB_Stance_Open Stance\tB_Stance_Orthodox\tB_Stance_Sideways\tB_Stance_Southpaw\tB_Stance_Switch\tR_Stance_Open Stance\tR_Stance_Orthodox\tR_Stance_Sideways\tR_Stance_Southpaw\tR_Stance_Switch"
   ]
  },
  {
   "cell_type": "code",
   "execution_count": null,
   "metadata": {},
   "outputs": [],
   "source": [
    "model.predict()"
   ]
  }
 ],
 "metadata": {
  "kernelspec": {
   "display_name": "Python 3",
   "language": "python",
   "name": "python3"
  },
  "language_info": {
   "codemirror_mode": {
    "name": "ipython",
    "version": 3
   },
   "file_extension": ".py",
   "mimetype": "text/x-python",
   "name": "python",
   "nbconvert_exporter": "python",
   "pygments_lexer": "ipython3",
   "version": "3.8.3"
  }
 },
 "nbformat": 4,
 "nbformat_minor": 4
}
